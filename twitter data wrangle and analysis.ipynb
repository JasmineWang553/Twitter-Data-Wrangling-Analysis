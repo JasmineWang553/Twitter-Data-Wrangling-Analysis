{
 "cells": [
  {
   "cell_type": "markdown",
   "id": "99f36dd4",
   "metadata": {},
   "source": [
    "# Twitter Data Analysis "
   ]
  },
  {
   "cell_type": "markdown",
   "id": "8f878676",
   "metadata": {},
   "source": [
    "## Table of Contents\n",
    "- [Data Wrangling](#wrang)\n",
    "- [Analysis](#analysis)"
   ]
  },
  {
   "cell_type": "markdown",
   "id": "e78b87a6",
   "metadata": {},
   "source": [
    "<a id='wrang'></a>\n",
    "# Data Wrangling\n"
   ]
  },
  {
   "cell_type": "markdown",
   "id": "c98af8e4",
   "metadata": {},
   "source": [
    "## Gather Data\n"
   ]
  },
  {
   "cell_type": "code",
   "execution_count": 1,
   "id": "5a88fe6e",
   "metadata": {},
   "outputs": [],
   "source": [
    "import requests\n",
    "import pandas as pd\n",
    "import numpy as np\n",
    "import tweepy\n",
    "import matplotlib.pyplot as plt\n",
    "import csv \n",
    "import json\n",
    "import os\n",
    "import warnings\n",
    "import seaborn as sns\n",
    "warnings.filterwarnings(\"ignore\", category=FutureWarning)\n",
    "\n",
    "%matplotlib inline"
   ]
  },
  {
   "cell_type": "markdown",
   "id": "42ca63b7",
   "metadata": {},
   "source": [
    "#### 1. Download image_predictions.tsv"
   ]
  },
  {
   "cell_type": "code",
   "execution_count": 2,
   "id": "3bbbaf7d",
   "metadata": {},
   "outputs": [],
   "source": [
    "if 'image_predictions.tsv' not in os.listdir():\n",
    "    url = 'https://d17h27t6h515a5.cloudfront.net/topher/2017/August/599fd2ad_image-predictions/image-predictions.tsv'\n",
    "\n",
    "    r = requests.get(url)\n",
    "    open('image_predictions.tsv', 'wb').write(r.content)"
   ]
  },
  {
   "cell_type": "code",
   "execution_count": 3,
   "id": "e45ff8b8",
   "metadata": {},
   "outputs": [
    {
     "data": {
      "text/html": [
       "<div>\n",
       "<style scoped>\n",
       "    .dataframe tbody tr th:only-of-type {\n",
       "        vertical-align: middle;\n",
       "    }\n",
       "\n",
       "    .dataframe tbody tr th {\n",
       "        vertical-align: top;\n",
       "    }\n",
       "\n",
       "    .dataframe thead th {\n",
       "        text-align: right;\n",
       "    }\n",
       "</style>\n",
       "<table border=\"1\" class=\"dataframe\">\n",
       "  <thead>\n",
       "    <tr style=\"text-align: right;\">\n",
       "      <th></th>\n",
       "      <th>tweet_id</th>\n",
       "      <th>jpg_url</th>\n",
       "      <th>img_num</th>\n",
       "      <th>p1</th>\n",
       "      <th>p1_conf</th>\n",
       "      <th>p1_dog</th>\n",
       "      <th>p2</th>\n",
       "      <th>p2_conf</th>\n",
       "      <th>p2_dog</th>\n",
       "      <th>p3</th>\n",
       "      <th>p3_conf</th>\n",
       "      <th>p3_dog</th>\n",
       "    </tr>\n",
       "  </thead>\n",
       "  <tbody>\n",
       "    <tr>\n",
       "      <th>0</th>\n",
       "      <td>666020888022790149</td>\n",
       "      <td>https://pbs.twimg.com/media/CT4udn0WwAA0aMy.jpg</td>\n",
       "      <td>1</td>\n",
       "      <td>Welsh_springer_spaniel</td>\n",
       "      <td>0.465074</td>\n",
       "      <td>True</td>\n",
       "      <td>collie</td>\n",
       "      <td>0.156665</td>\n",
       "      <td>True</td>\n",
       "      <td>Shetland_sheepdog</td>\n",
       "      <td>0.061428</td>\n",
       "      <td>True</td>\n",
       "    </tr>\n",
       "    <tr>\n",
       "      <th>1</th>\n",
       "      <td>666029285002620928</td>\n",
       "      <td>https://pbs.twimg.com/media/CT42GRgUYAA5iDo.jpg</td>\n",
       "      <td>1</td>\n",
       "      <td>redbone</td>\n",
       "      <td>0.506826</td>\n",
       "      <td>True</td>\n",
       "      <td>miniature_pinscher</td>\n",
       "      <td>0.074192</td>\n",
       "      <td>True</td>\n",
       "      <td>Rhodesian_ridgeback</td>\n",
       "      <td>0.072010</td>\n",
       "      <td>True</td>\n",
       "    </tr>\n",
       "    <tr>\n",
       "      <th>2</th>\n",
       "      <td>666033412701032449</td>\n",
       "      <td>https://pbs.twimg.com/media/CT4521TWwAEvMyu.jpg</td>\n",
       "      <td>1</td>\n",
       "      <td>German_shepherd</td>\n",
       "      <td>0.596461</td>\n",
       "      <td>True</td>\n",
       "      <td>malinois</td>\n",
       "      <td>0.138584</td>\n",
       "      <td>True</td>\n",
       "      <td>bloodhound</td>\n",
       "      <td>0.116197</td>\n",
       "      <td>True</td>\n",
       "    </tr>\n",
       "    <tr>\n",
       "      <th>3</th>\n",
       "      <td>666044226329800704</td>\n",
       "      <td>https://pbs.twimg.com/media/CT5Dr8HUEAA-lEu.jpg</td>\n",
       "      <td>1</td>\n",
       "      <td>Rhodesian_ridgeback</td>\n",
       "      <td>0.408143</td>\n",
       "      <td>True</td>\n",
       "      <td>redbone</td>\n",
       "      <td>0.360687</td>\n",
       "      <td>True</td>\n",
       "      <td>miniature_pinscher</td>\n",
       "      <td>0.222752</td>\n",
       "      <td>True</td>\n",
       "    </tr>\n",
       "    <tr>\n",
       "      <th>4</th>\n",
       "      <td>666049248165822465</td>\n",
       "      <td>https://pbs.twimg.com/media/CT5IQmsXIAAKY4A.jpg</td>\n",
       "      <td>1</td>\n",
       "      <td>miniature_pinscher</td>\n",
       "      <td>0.560311</td>\n",
       "      <td>True</td>\n",
       "      <td>Rottweiler</td>\n",
       "      <td>0.243682</td>\n",
       "      <td>True</td>\n",
       "      <td>Doberman</td>\n",
       "      <td>0.154629</td>\n",
       "      <td>True</td>\n",
       "    </tr>\n",
       "  </tbody>\n",
       "</table>\n",
       "</div>"
      ],
      "text/plain": [
       "             tweet_id                                          jpg_url  \\\n",
       "0  666020888022790149  https://pbs.twimg.com/media/CT4udn0WwAA0aMy.jpg   \n",
       "1  666029285002620928  https://pbs.twimg.com/media/CT42GRgUYAA5iDo.jpg   \n",
       "2  666033412701032449  https://pbs.twimg.com/media/CT4521TWwAEvMyu.jpg   \n",
       "3  666044226329800704  https://pbs.twimg.com/media/CT5Dr8HUEAA-lEu.jpg   \n",
       "4  666049248165822465  https://pbs.twimg.com/media/CT5IQmsXIAAKY4A.jpg   \n",
       "\n",
       "   img_num                      p1   p1_conf  p1_dog                  p2  \\\n",
       "0        1  Welsh_springer_spaniel  0.465074    True              collie   \n",
       "1        1                 redbone  0.506826    True  miniature_pinscher   \n",
       "2        1         German_shepherd  0.596461    True            malinois   \n",
       "3        1     Rhodesian_ridgeback  0.408143    True             redbone   \n",
       "4        1      miniature_pinscher  0.560311    True          Rottweiler   \n",
       "\n",
       "    p2_conf  p2_dog                   p3   p3_conf  p3_dog  \n",
       "0  0.156665    True    Shetland_sheepdog  0.061428    True  \n",
       "1  0.074192    True  Rhodesian_ridgeback  0.072010    True  \n",
       "2  0.138584    True           bloodhound  0.116197    True  \n",
       "3  0.360687    True   miniature_pinscher  0.222752    True  \n",
       "4  0.243682    True             Doberman  0.154629    True  "
      ]
     },
     "execution_count": 3,
     "metadata": {},
     "output_type": "execute_result"
    }
   ],
   "source": [
    "im_pred_orig = pd.read_csv('image_predictions.tsv', delimiter= '\\t')\n",
    "im_pred_orig.head(5)"
   ]
  },
  {
   "cell_type": "markdown",
   "id": "0b6d2bb9",
   "metadata": {},
   "source": [
    "#### 2. Retrieve Twitter API Data"
   ]
  },
  {
   "cell_type": "code",
   "execution_count": 4,
   "id": "4d7aa467",
   "metadata": {},
   "outputs": [
    {
     "data": {
      "text/plain": [
       "(2356, 17)"
      ]
     },
     "execution_count": 4,
     "metadata": {},
     "output_type": "execute_result"
    }
   ],
   "source": [
    "archive_orig = pd.read_csv('twitter-archive-enhanced.csv')\n",
    "archive_orig.shape"
   ]
  },
  {
   "cell_type": "code",
   "execution_count": 6,
   "id": "da83b66e",
   "metadata": {},
   "outputs": [],
   "source": [
    "if 'tweet_json.txt' not in os.listdir():\n",
    "    \n",
    "    # collect data\n",
    "    tweet_fail_id = np.array([])\n",
    "    count = 0\n",
    "\n",
    "    with open('tweet_json.txt', 'w') as export_file:\n",
    "\n",
    "        for t_id in archive['tweet_id']:\n",
    "            count += 1\n",
    "\n",
    "            try:\n",
    "                auth = tweepy.OAuthHandler(consumer_key, consumer_secret)\n",
    "                auth.set_access_token(access_token, access_secret)\n",
    "                api = tweepy.API(auth)\n",
    "\n",
    "                tweet = api.get_status(t_id, tweet_mode='extended')\n",
    "\n",
    "                export_file.write(json.dumps(tweet._json))\n",
    "                export_file.write('\\n')\n",
    "\n",
    "                if count == 500:\n",
    "                    print('500 Successes')\n",
    "\n",
    "            except tweepy.TweepError as e:\n",
    "                tweet_fail_id = np.append(tweet_fail_id, t_id)\n"
   ]
  },
  {
   "cell_type": "code",
   "execution_count": 7,
   "id": "b4348163",
   "metadata": {},
   "outputs": [
    {
     "data": {
      "text/plain": [
       "(1556, 3)"
      ]
     },
     "execution_count": 7,
     "metadata": {},
     "output_type": "execute_result"
    }
   ],
   "source": [
    "# reformat data into df\n",
    "count_df_orig = pd.DataFrame(columns = ['tweet_id','retweet_count','favorite_count'])\n",
    "\n",
    "with open('tweet_json.txt') as file:\n",
    "    for ind, line in enumerate(file):\n",
    "        tweet = json.loads(line)\n",
    "        t_id = tweet['id_str']\n",
    "        retweet_count = tweet['retweet_count']\n",
    "        like_count = tweet['favorite_count']\n",
    "        count_df_orig.loc[ind] = np.array([t_id, retweet_count, like_count])\n",
    "        \n",
    "count_df_orig.shape"
   ]
  },
  {
   "cell_type": "code",
   "execution_count": 8,
   "id": "dfd64f25",
   "metadata": {},
   "outputs": [
    {
     "data": {
      "text/html": [
       "<div>\n",
       "<style scoped>\n",
       "    .dataframe tbody tr th:only-of-type {\n",
       "        vertical-align: middle;\n",
       "    }\n",
       "\n",
       "    .dataframe tbody tr th {\n",
       "        vertical-align: top;\n",
       "    }\n",
       "\n",
       "    .dataframe thead th {\n",
       "        text-align: right;\n",
       "    }\n",
       "</style>\n",
       "<table border=\"1\" class=\"dataframe\">\n",
       "  <thead>\n",
       "    <tr style=\"text-align: right;\">\n",
       "      <th></th>\n",
       "      <th>tweet_id</th>\n",
       "      <th>retweet_count</th>\n",
       "      <th>favorite_count</th>\n",
       "    </tr>\n",
       "  </thead>\n",
       "  <tbody>\n",
       "    <tr>\n",
       "      <th>0</th>\n",
       "      <td>892420643555336193</td>\n",
       "      <td>7260</td>\n",
       "      <td>34716</td>\n",
       "    </tr>\n",
       "    <tr>\n",
       "      <th>1</th>\n",
       "      <td>892177421306343426</td>\n",
       "      <td>5434</td>\n",
       "      <td>30085</td>\n",
       "    </tr>\n",
       "    <tr>\n",
       "      <th>2</th>\n",
       "      <td>891815181378084864</td>\n",
       "      <td>3583</td>\n",
       "      <td>22640</td>\n",
       "    </tr>\n",
       "    <tr>\n",
       "      <th>3</th>\n",
       "      <td>891689557279858688</td>\n",
       "      <td>7465</td>\n",
       "      <td>37993</td>\n",
       "    </tr>\n",
       "    <tr>\n",
       "      <th>4</th>\n",
       "      <td>891327558926688256</td>\n",
       "      <td>8018</td>\n",
       "      <td>36276</td>\n",
       "    </tr>\n",
       "  </tbody>\n",
       "</table>\n",
       "</div>"
      ],
      "text/plain": [
       "             tweet_id retweet_count favorite_count\n",
       "0  892420643555336193          7260          34716\n",
       "1  892177421306343426          5434          30085\n",
       "2  891815181378084864          3583          22640\n",
       "3  891689557279858688          7465          37993\n",
       "4  891327558926688256          8018          36276"
      ]
     },
     "execution_count": 8,
     "metadata": {},
     "output_type": "execute_result"
    }
   ],
   "source": [
    "count_df_orig.head()"
   ]
  },
  {
   "cell_type": "markdown",
   "id": "3d5158f0",
   "metadata": {},
   "source": [
    "## Assess\n",
    "\n",
    "#### Quality:\n",
    "1. remove non-original tweets (retweet or reply)\n",
    "2. re-extract ratings from text and update df and change dtypes\n",
    "3. drop rows with 0 as denominator and change denominators to 10\n",
    "4. change tweet id to categorical\n",
    "5. change favorite counts and retweet counts to numerical \n",
    "6. delete duplicated pictures from image prediction\n",
    "7. remove columns not necessary\n",
    "8. combine all dataframes together with same tweet_id\n",
    "9. remove ones with no picture"
   ]
  },
  {
   "cell_type": "code",
   "execution_count": 9,
   "id": "5a1dfa72",
   "metadata": {},
   "outputs": [
    {
     "data": {
      "text/plain": [
       "tweet_id                         0\n",
       "in_reply_to_status_id         2278\n",
       "in_reply_to_user_id           2278\n",
       "timestamp                        0\n",
       "source                           0\n",
       "text                             0\n",
       "retweeted_status_id           2175\n",
       "retweeted_status_user_id      2175\n",
       "retweeted_status_timestamp    2175\n",
       "expanded_urls                   59\n",
       "rating_numerator                 0\n",
       "rating_denominator               0\n",
       "name                             0\n",
       "doggo                            0\n",
       "floofer                          0\n",
       "pupper                           0\n",
       "puppo                            0\n",
       "dtype: int64"
      ]
     },
     "execution_count": 9,
     "metadata": {},
     "output_type": "execute_result"
    }
   ],
   "source": [
    "archive = archive_orig.copy()\n",
    "archive.isnull().sum()"
   ]
  },
  {
   "cell_type": "code",
   "execution_count": 10,
   "id": "97773f14",
   "metadata": {},
   "outputs": [],
   "source": [
    "#1. remove non-original tweets\n",
    "# retweet\n",
    "nas = archive[['retweeted_status_id', 'retweeted_status_user_id', 'retweeted_status_timestamp']].isna().sum(axis = 1)\n",
    "archive = archive[nas == 3]\n",
    "\n",
    "# in_reply\n",
    "nas = archive[['in_reply_to_status_id', 'in_reply_to_user_id']].isna().sum(axis = 1)\n",
    "archive = archive[nas == 2]"
   ]
  },
  {
   "cell_type": "code",
   "execution_count": 11,
   "id": "f99409d7",
   "metadata": {},
   "outputs": [
    {
     "data": {
      "text/plain": [
       "4"
      ]
     },
     "execution_count": 11,
     "metadata": {},
     "output_type": "execute_result"
    }
   ],
   "source": [
    "#2. re-extract ratings from text \n",
    "r = archive['text'].str.extract('((?:\\d+\\.)?\\d+)\\/(\\d+)', expand = True)\n",
    "r.columns = ['rating_numerator', 'rating_denominator']\n",
    "r['rating_numerator'] = r['rating_numerator'].astype(float)\n",
    "r['rating_denominator'] = r['rating_denominator'].astype(int)\n",
    "(r['rating_numerator'] != archive['rating_numerator']).sum()"
   ]
  },
  {
   "cell_type": "code",
   "execution_count": 12,
   "id": "81fd6b72",
   "metadata": {
    "scrolled": false
   },
   "outputs": [
    {
     "data": {
      "text/plain": [
       "17"
      ]
     },
     "execution_count": 12,
     "metadata": {},
     "output_type": "execute_result"
    }
   ],
   "source": [
    "#3. modify denominators on condition to make it 10\n",
    "im_pred = im_pred_orig.copy()\n",
    "denom_not10 = archive[archive['rating_denominator'] != 10]['tweet_id']\n",
    "denom_not10_df = im_pred[im_pred['tweet_id'].astype(str).apply(lambda x: \n",
    "                                             True if (x == denom_not10.astype('str')).sum() == 1 else False)]\n",
    "len(denom_not10)"
   ]
  },
  {
   "cell_type": "code",
   "execution_count": 13,
   "id": "45e58b10",
   "metadata": {
    "scrolled": true
   },
   "outputs": [
    {
     "name": "stderr",
     "output_type": "stream",
     "text": [
      "<ipython-input-13-62383c266140>:2: SettingWithCopyWarning: \n",
      "A value is trying to be set on a copy of a slice from a DataFrame.\n",
      "Try using .loc[row_indexer,col_indexer] = value instead\n",
      "\n",
      "See the caveats in the documentation: https://pandas.pydata.org/pandas-docs/stable/user_guide/indexing.html#returning-a-view-versus-a-copy\n",
      "  denom_not10_df['tweet_id'] =denom_not10_df['tweet_id'].astype(float)\n"
     ]
    },
    {
     "data": {
      "text/html": [
       "<div>\n",
       "<style scoped>\n",
       "    .dataframe tbody tr th:only-of-type {\n",
       "        vertical-align: middle;\n",
       "    }\n",
       "\n",
       "    .dataframe tbody tr th {\n",
       "        vertical-align: top;\n",
       "    }\n",
       "\n",
       "    .dataframe thead th {\n",
       "        text-align: right;\n",
       "    }\n",
       "</style>\n",
       "<table border=\"1\" class=\"dataframe\">\n",
       "  <thead>\n",
       "    <tr style=\"text-align: right;\">\n",
       "      <th></th>\n",
       "      <th>tweet_id</th>\n",
       "      <th>jpg_url</th>\n",
       "      <th>rating_numerator</th>\n",
       "      <th>rating_denominator</th>\n",
       "    </tr>\n",
       "  </thead>\n",
       "  <tbody>\n",
       "    <tr>\n",
       "      <th>0</th>\n",
       "      <td>6.662874e+17</td>\n",
       "      <td>https://pbs.twimg.com/media/CT8g3BpUEAAuFjg.jpg</td>\n",
       "      <td>1</td>\n",
       "      <td>2</td>\n",
       "    </tr>\n",
       "    <tr>\n",
       "      <th>1</th>\n",
       "      <td>6.758531e+17</td>\n",
       "      <td>https://pbs.twimg.com/media/CWEcxqWVEAAHyGH.jpg</td>\n",
       "      <td>88</td>\n",
       "      <td>80</td>\n",
       "    </tr>\n",
       "    <tr>\n",
       "      <th>2</th>\n",
       "      <td>6.777165e+17</td>\n",
       "      <td>https://pbs.twimg.com/media/CWe7kw9W4AE8UJh.jpg</td>\n",
       "      <td>144</td>\n",
       "      <td>120</td>\n",
       "    </tr>\n",
       "    <tr>\n",
       "      <th>3</th>\n",
       "      <td>6.829620e+17</td>\n",
       "      <td>https://pbs.twimg.com/media/CXpeVzQW8AApKYb.jpg</td>\n",
       "      <td>7</td>\n",
       "      <td>11</td>\n",
       "    </tr>\n",
       "    <tr>\n",
       "      <th>4</th>\n",
       "      <td>6.842229e+17</td>\n",
       "      <td>https://pbs.twimg.com/media/CX7Y_ByWwAEJdUy.jpg</td>\n",
       "      <td>121</td>\n",
       "      <td>110</td>\n",
       "    </tr>\n",
       "  </tbody>\n",
       "</table>\n",
       "</div>"
      ],
      "text/plain": [
       "       tweet_id                                          jpg_url  \\\n",
       "0  6.662874e+17  https://pbs.twimg.com/media/CT8g3BpUEAAuFjg.jpg   \n",
       "1  6.758531e+17  https://pbs.twimg.com/media/CWEcxqWVEAAHyGH.jpg   \n",
       "2  6.777165e+17  https://pbs.twimg.com/media/CWe7kw9W4AE8UJh.jpg   \n",
       "3  6.829620e+17  https://pbs.twimg.com/media/CXpeVzQW8AApKYb.jpg   \n",
       "4  6.842229e+17  https://pbs.twimg.com/media/CX7Y_ByWwAEJdUy.jpg   \n",
       "\n",
       "   rating_numerator  rating_denominator  \n",
       "0                 1                   2  \n",
       "1                88                  80  \n",
       "2               144                 120  \n",
       "3                 7                  11  \n",
       "4               121                 110  "
      ]
     },
     "execution_count": 13,
     "metadata": {},
     "output_type": "execute_result"
    }
   ],
   "source": [
    "# check images to find a solution for those denominators != 10\n",
    "denom_not10_df['tweet_id'] =denom_not10_df['tweet_id'].astype(float)\n",
    "denom_not10_df2 = denom_not10_df[['tweet_id','jpg_url']].sort_values(by = 'tweet_id')\n",
    "\n",
    "a = archive[archive['rating_denominator'] != 10][['tweet_id','rating_numerator','rating_denominator']]\n",
    "a['tweet_id'] = a['tweet_id'].astype(float)\n",
    "a2 = a[['tweet_id','rating_numerator','rating_denominator']].sort_values(by = 'tweet_id')\n",
    "\n",
    "pd.merge(denom_not10_df2, a2, on = 'tweet_id').head()"
   ]
  },
  {
   "cell_type": "code",
   "execution_count": 14,
   "id": "5a847025",
   "metadata": {
    "scrolled": true
   },
   "outputs": [],
   "source": [
    "# divide denom and numerator by 10 if it is divisible and different than 10 otherwise return nan\n",
    "def div_denom(r):\n",
    "    if r['rating_denominator'] == 10:\n",
    "        return r\n",
    "    elif (r['rating_denominator'] % 10) == 0:\n",
    "        dogs = int(r['rating_denominator'] / 10)\n",
    "        r['rating_denominator'] = r['rating_denominator'] / dogs\n",
    "        r['rating_numerator'] = r['rating_numerator'] / dogs\n",
    "        return r\n",
    "    else:\n",
    "        return np.nan\n",
    "\n",
    "archive = archive.apply(div_denom, axis = 1, result_type = 'broadcast')"
   ]
  },
  {
   "cell_type": "code",
   "execution_count": 15,
   "id": "25ed3c4a",
   "metadata": {},
   "outputs": [
    {
     "data": {
      "text/plain": [
       "10    2093\n",
       "Name: rating_denominator, dtype: int64"
      ]
     },
     "execution_count": 15,
     "metadata": {},
     "output_type": "execute_result"
    }
   ],
   "source": [
    "# drop columns where rating denominator is not 10\n",
    "archive = archive[~pd.isna(archive['rating_denominator'])]\n",
    "archive.rating_denominator.value_counts()"
   ]
  },
  {
   "cell_type": "code",
   "execution_count": 16,
   "id": "42031e25",
   "metadata": {},
   "outputs": [],
   "source": [
    "#4. change favorite counts and retweet counts to numerical \n",
    "count_df = count_df_orig.copy()\n",
    "count_df.retweet_count = count_df.retweet_count.astype(int)\n",
    "count_df.favorite_count = count_df.favorite_count.astype(int)"
   ]
  },
  {
   "cell_type": "code",
   "execution_count": 17,
   "id": "cf3e7e8c",
   "metadata": {},
   "outputs": [],
   "source": [
    "#5. remove columns not necessary\n",
    "archive = archive[['tweet_id', 'timestamp','text', 'rating_numerator',\n",
    "                   'rating_denominator', 'name', 'doggo', 'floofer', 'pupper', 'puppo']]"
   ]
  },
  {
   "cell_type": "code",
   "execution_count": 18,
   "id": "1ff8ed78",
   "metadata": {},
   "outputs": [],
   "source": [
    "#6. change tweet id to categorical\n",
    "archive['tweet_id'] = archive['tweet_id'].astype('str')\n",
    "im_pred['tweet_id'] = im_pred['tweet_id'].astype('str')\n",
    "count_df['tweet_id'] = count_df['tweet_id'].astype('str')"
   ]
  },
  {
   "cell_type": "code",
   "execution_count": 19,
   "id": "57965de2",
   "metadata": {},
   "outputs": [
    {
     "name": "stdout",
     "output_type": "stream",
     "text": [
      "66\n"
     ]
    }
   ],
   "source": [
    "#7. delete duplicated pictures from image prediction\n",
    "print(im_pred.drop('tweet_id', axis = 1).duplicated().sum())\n",
    "tid = im_pred['tweet_id']\n",
    "im_pred = im_pred.drop('tweet_id', axis = 1).drop_duplicates()\n",
    "im_pred = pd.concat([tid, im_pred], axis = 1)"
   ]
  },
  {
   "cell_type": "code",
   "execution_count": 20,
   "id": "95dad1c5",
   "metadata": {},
   "outputs": [
    {
     "name": "stdout",
     "output_type": "stream",
     "text": [
      "(1556, 3) (2075, 12)\n"
     ]
    }
   ],
   "source": [
    "#8. combine all dataframes together with same tweet_id\n",
    "print(count_df.shape, im_pred.shape)"
   ]
  },
  {
   "cell_type": "code",
   "execution_count": 21,
   "id": "3429e697",
   "metadata": {},
   "outputs": [
    {
     "data": {
      "text/plain": [
       "(1295, 23)"
      ]
     },
     "execution_count": 21,
     "metadata": {},
     "output_type": "execute_result"
    }
   ],
   "source": [
    "combined = count_df.merge(im_pred, how='inner', on='tweet_id')\n",
    "combined = combined.merge(archive, how='inner', on='tweet_id')\n",
    "combined.shape"
   ]
  },
  {
   "cell_type": "code",
   "execution_count": 22,
   "id": "2fee9532",
   "metadata": {},
   "outputs": [
    {
     "data": {
      "text/plain": [
       "Index(['tweet_id', 'retweet_count', 'favorite_count', 'jpg_url', 'img_num',\n",
       "       'p1', 'p1_conf', 'p1_dog', 'p2', 'p2_conf', 'p2_dog', 'p3', 'p3_conf',\n",
       "       'p3_dog', 'timestamp', 'text', 'rating_numerator', 'rating_denominator',\n",
       "       'name', 'doggo', 'floofer', 'pupper', 'puppo'],\n",
       "      dtype='object')"
      ]
     },
     "execution_count": 22,
     "metadata": {},
     "output_type": "execute_result"
    }
   ],
   "source": [
    "combined.columns"
   ]
  },
  {
   "cell_type": "code",
   "execution_count": 23,
   "id": "8fe38058",
   "metadata": {
    "scrolled": true
   },
   "outputs": [
    {
     "data": {
      "text/html": [
       "<div>\n",
       "<style scoped>\n",
       "    .dataframe tbody tr th:only-of-type {\n",
       "        vertical-align: middle;\n",
       "    }\n",
       "\n",
       "    .dataframe tbody tr th {\n",
       "        vertical-align: top;\n",
       "    }\n",
       "\n",
       "    .dataframe thead th {\n",
       "        text-align: right;\n",
       "    }\n",
       "</style>\n",
       "<table border=\"1\" class=\"dataframe\">\n",
       "  <thead>\n",
       "    <tr style=\"text-align: right;\">\n",
       "      <th></th>\n",
       "      <th>tweet_id</th>\n",
       "      <th>retweet_count</th>\n",
       "      <th>favorite_count</th>\n",
       "      <th>jpg_url</th>\n",
       "      <th>img_num</th>\n",
       "      <th>p1</th>\n",
       "      <th>p1_conf</th>\n",
       "      <th>p1_dog</th>\n",
       "      <th>p2</th>\n",
       "      <th>p2_conf</th>\n",
       "      <th>...</th>\n",
       "      <th>p3_dog</th>\n",
       "      <th>timestamp</th>\n",
       "      <th>text</th>\n",
       "      <th>rating_numerator</th>\n",
       "      <th>rating_denominator</th>\n",
       "      <th>name</th>\n",
       "      <th>doggo</th>\n",
       "      <th>floofer</th>\n",
       "      <th>pupper</th>\n",
       "      <th>puppo</th>\n",
       "    </tr>\n",
       "  </thead>\n",
       "  <tbody>\n",
       "    <tr>\n",
       "      <th>0</th>\n",
       "      <td>892420643555336193</td>\n",
       "      <td>7260</td>\n",
       "      <td>34716</td>\n",
       "      <td>https://pbs.twimg.com/media/DGKD1-bXoAAIAUK.jpg</td>\n",
       "      <td>1.0</td>\n",
       "      <td>orange</td>\n",
       "      <td>0.097049</td>\n",
       "      <td>False</td>\n",
       "      <td>bagel</td>\n",
       "      <td>0.085851</td>\n",
       "      <td>...</td>\n",
       "      <td>False</td>\n",
       "      <td>2017-08-01 16:23:56 +0000</td>\n",
       "      <td>This is Phineas. He's a mystical boy. Only eve...</td>\n",
       "      <td>13</td>\n",
       "      <td>10</td>\n",
       "      <td>Phineas</td>\n",
       "      <td>None</td>\n",
       "      <td>None</td>\n",
       "      <td>None</td>\n",
       "      <td>None</td>\n",
       "    </tr>\n",
       "    <tr>\n",
       "      <th>1</th>\n",
       "      <td>892177421306343426</td>\n",
       "      <td>5434</td>\n",
       "      <td>30085</td>\n",
       "      <td>https://pbs.twimg.com/media/DGGmoV4XsAAUL6n.jpg</td>\n",
       "      <td>1.0</td>\n",
       "      <td>chihuahua</td>\n",
       "      <td>0.323581</td>\n",
       "      <td>True</td>\n",
       "      <td>pekinese</td>\n",
       "      <td>0.090647</td>\n",
       "      <td>...</td>\n",
       "      <td>True</td>\n",
       "      <td>2017-08-01 00:17:27 +0000</td>\n",
       "      <td>This is Tilly. She's just checking pup on you....</td>\n",
       "      <td>13</td>\n",
       "      <td>10</td>\n",
       "      <td>Tilly</td>\n",
       "      <td>None</td>\n",
       "      <td>None</td>\n",
       "      <td>None</td>\n",
       "      <td>None</td>\n",
       "    </tr>\n",
       "    <tr>\n",
       "      <th>2</th>\n",
       "      <td>891815181378084864</td>\n",
       "      <td>3583</td>\n",
       "      <td>22640</td>\n",
       "      <td>https://pbs.twimg.com/media/DGBdLU1WsAANxJ9.jpg</td>\n",
       "      <td>1.0</td>\n",
       "      <td>chihuahua</td>\n",
       "      <td>0.716012</td>\n",
       "      <td>True</td>\n",
       "      <td>malamute</td>\n",
       "      <td>0.078253</td>\n",
       "      <td>...</td>\n",
       "      <td>True</td>\n",
       "      <td>2017-07-31 00:18:03 +0000</td>\n",
       "      <td>This is Archie. He is a rare Norwegian Pouncin...</td>\n",
       "      <td>12</td>\n",
       "      <td>10</td>\n",
       "      <td>Archie</td>\n",
       "      <td>None</td>\n",
       "      <td>None</td>\n",
       "      <td>None</td>\n",
       "      <td>None</td>\n",
       "    </tr>\n",
       "    <tr>\n",
       "      <th>3</th>\n",
       "      <td>891689557279858688</td>\n",
       "      <td>7465</td>\n",
       "      <td>37993</td>\n",
       "      <td>https://pbs.twimg.com/media/DF_q7IAWsAEuuN8.jpg</td>\n",
       "      <td>1.0</td>\n",
       "      <td>paper_towel</td>\n",
       "      <td>0.170278</td>\n",
       "      <td>False</td>\n",
       "      <td>labrador_retriever</td>\n",
       "      <td>0.168086</td>\n",
       "      <td>...</td>\n",
       "      <td>False</td>\n",
       "      <td>2017-07-30 15:58:51 +0000</td>\n",
       "      <td>This is Darla. She commenced a snooze mid meal...</td>\n",
       "      <td>13</td>\n",
       "      <td>10</td>\n",
       "      <td>Darla</td>\n",
       "      <td>None</td>\n",
       "      <td>None</td>\n",
       "      <td>None</td>\n",
       "      <td>None</td>\n",
       "    </tr>\n",
       "    <tr>\n",
       "      <th>4</th>\n",
       "      <td>891327558926688256</td>\n",
       "      <td>8018</td>\n",
       "      <td>36276</td>\n",
       "      <td>https://pbs.twimg.com/media/DF6hr6BUMAAzZgT.jpg</td>\n",
       "      <td>2.0</td>\n",
       "      <td>basset</td>\n",
       "      <td>0.555712</td>\n",
       "      <td>True</td>\n",
       "      <td>english_springer</td>\n",
       "      <td>0.225770</td>\n",
       "      <td>...</td>\n",
       "      <td>True</td>\n",
       "      <td>2017-07-29 16:00:24 +0000</td>\n",
       "      <td>This is Franklin. He would like you to stop ca...</td>\n",
       "      <td>12</td>\n",
       "      <td>10</td>\n",
       "      <td>Franklin</td>\n",
       "      <td>None</td>\n",
       "      <td>None</td>\n",
       "      <td>None</td>\n",
       "      <td>None</td>\n",
       "    </tr>\n",
       "  </tbody>\n",
       "</table>\n",
       "<p>5 rows × 23 columns</p>\n",
       "</div>"
      ],
      "text/plain": [
       "             tweet_id  retweet_count  favorite_count  \\\n",
       "0  892420643555336193           7260           34716   \n",
       "1  892177421306343426           5434           30085   \n",
       "2  891815181378084864           3583           22640   \n",
       "3  891689557279858688           7465           37993   \n",
       "4  891327558926688256           8018           36276   \n",
       "\n",
       "                                           jpg_url  img_num           p1  \\\n",
       "0  https://pbs.twimg.com/media/DGKD1-bXoAAIAUK.jpg      1.0       orange   \n",
       "1  https://pbs.twimg.com/media/DGGmoV4XsAAUL6n.jpg      1.0    chihuahua   \n",
       "2  https://pbs.twimg.com/media/DGBdLU1WsAANxJ9.jpg      1.0    chihuahua   \n",
       "3  https://pbs.twimg.com/media/DF_q7IAWsAEuuN8.jpg      1.0  paper_towel   \n",
       "4  https://pbs.twimg.com/media/DF6hr6BUMAAzZgT.jpg      2.0       basset   \n",
       "\n",
       "    p1_conf p1_dog                  p2   p2_conf  ... p3_dog  \\\n",
       "0  0.097049  False               bagel  0.085851  ...  False   \n",
       "1  0.323581   True            pekinese  0.090647  ...   True   \n",
       "2  0.716012   True            malamute  0.078253  ...   True   \n",
       "3  0.170278  False  labrador_retriever  0.168086  ...  False   \n",
       "4  0.555712   True    english_springer  0.225770  ...   True   \n",
       "\n",
       "                   timestamp  \\\n",
       "0  2017-08-01 16:23:56 +0000   \n",
       "1  2017-08-01 00:17:27 +0000   \n",
       "2  2017-07-31 00:18:03 +0000   \n",
       "3  2017-07-30 15:58:51 +0000   \n",
       "4  2017-07-29 16:00:24 +0000   \n",
       "\n",
       "                                                text rating_numerator  \\\n",
       "0  This is Phineas. He's a mystical boy. Only eve...               13   \n",
       "1  This is Tilly. She's just checking pup on you....               13   \n",
       "2  This is Archie. He is a rare Norwegian Pouncin...               12   \n",
       "3  This is Darla. She commenced a snooze mid meal...               13   \n",
       "4  This is Franklin. He would like you to stop ca...               12   \n",
       "\n",
       "  rating_denominator      name doggo floofer pupper puppo  \n",
       "0                 10   Phineas  None    None   None  None  \n",
       "1                 10     Tilly  None    None   None  None  \n",
       "2                 10    Archie  None    None   None  None  \n",
       "3                 10     Darla  None    None   None  None  \n",
       "4                 10  Franklin  None    None   None  None  \n",
       "\n",
       "[5 rows x 23 columns]"
      ]
     },
     "execution_count": 23,
     "metadata": {},
     "output_type": "execute_result"
    }
   ],
   "source": [
    "#9. inconsistent alphabet case over p1 ~ p3 -> change to lowercase\n",
    "for i in range(1, 4):\n",
    "    combined[f'p{i}'] = combined[f'p{i}'].str.lower()\n",
    "    \n",
    "combined.head()"
   ]
  },
  {
   "cell_type": "code",
   "execution_count": 24,
   "id": "4b926d46",
   "metadata": {},
   "outputs": [],
   "source": [
    "#10. make dog stages columns into one\n",
    "stage = combined[['doggo','floofer','pupper','puppo']].applymap(lambda x: 0 if x == 'None' else 1)\n",
    "stage['None'] = (stage.sum(axis = 1) < 1).apply(lambda x: 1 if x else 0)\n",
    "stage['stage'] = stage.idxmax(1)\n",
    "combined = pd.concat([combined.drop(columns = ['doggo','floofer','pupper','puppo']), stage['stage']], axis = 1)"
   ]
  },
  {
   "cell_type": "code",
   "execution_count": 25,
   "id": "653eaf5b",
   "metadata": {},
   "outputs": [
    {
     "data": {
      "text/plain": [
       "None       1126\n",
       "pupper      100\n",
       "doggo        50\n",
       "puppo        16\n",
       "floofer       3\n",
       "Name: stage, dtype: int64"
      ]
     },
     "execution_count": 25,
     "metadata": {},
     "output_type": "execute_result"
    }
   ],
   "source": [
    "combined['stage'].value_counts()"
   ]
  },
  {
   "cell_type": "code",
   "execution_count": 26,
   "id": "5b3376c2",
   "metadata": {},
   "outputs": [],
   "source": [
    "# 11. rename columns in the format -> lowercase_lowercase, and create rating ratio \n",
    "combined['rating_ratio'] = (combined['rating_numerator']/combined['rating_denominator']).astype(float)\n",
    "combined = combined.drop(columns = ['rating_numerator', 'rating_denominator'], axis = 1)\n",
    "combined = combined.rename(columns = {'timestamp': 'time_stamp', \n",
    "                                      'text': 'tweet_content',\n",
    "                                      'name':'dog_name', \n",
    "                                      'stage': 'age_stage',\n",
    "                                      'jpg_url': 'picture_url'})"
   ]
  },
  {
   "cell_type": "code",
   "execution_count": 27,
   "id": "474c08af",
   "metadata": {},
   "outputs": [
    {
     "data": {
      "text/plain": [
       "Index(['tweet_id', 'retweet_count', 'favorite_count', 'picture_url', 'img_num',\n",
       "       'p1', 'p1_conf', 'p1_dog', 'p2', 'p2_conf', 'p2_dog', 'p3', 'p3_conf',\n",
       "       'p3_dog', 'time_stamp', 'tweet_content', 'dog_name', 'age_stage',\n",
       "       'rating_ratio'],\n",
       "      dtype='object')"
      ]
     },
     "execution_count": 27,
     "metadata": {},
     "output_type": "execute_result"
    }
   ],
   "source": [
    "combined.columns"
   ]
  },
  {
   "cell_type": "code",
   "execution_count": 28,
   "id": "323ca795",
   "metadata": {},
   "outputs": [],
   "source": [
    "#12. final clean up of dtypes\n",
    "combined['img_num'] = combined['img_num'].astype(int)"
   ]
  },
  {
   "cell_type": "code",
   "execution_count": 29,
   "id": "c8ef2f56",
   "metadata": {},
   "outputs": [
    {
     "data": {
      "text/html": [
       "<div>\n",
       "<style scoped>\n",
       "    .dataframe tbody tr th:only-of-type {\n",
       "        vertical-align: middle;\n",
       "    }\n",
       "\n",
       "    .dataframe tbody tr th {\n",
       "        vertical-align: top;\n",
       "    }\n",
       "\n",
       "    .dataframe thead th {\n",
       "        text-align: right;\n",
       "    }\n",
       "</style>\n",
       "<table border=\"1\" class=\"dataframe\">\n",
       "  <thead>\n",
       "    <tr style=\"text-align: right;\">\n",
       "      <th></th>\n",
       "      <th>tweet_id</th>\n",
       "      <th>retweet_count</th>\n",
       "      <th>favorite_count</th>\n",
       "      <th>picture_url</th>\n",
       "      <th>img_num</th>\n",
       "      <th>p1</th>\n",
       "      <th>p1_conf</th>\n",
       "      <th>p1_dog</th>\n",
       "      <th>p2</th>\n",
       "      <th>p2_conf</th>\n",
       "      <th>p2_dog</th>\n",
       "      <th>p3</th>\n",
       "      <th>p3_conf</th>\n",
       "      <th>p3_dog</th>\n",
       "      <th>time_stamp</th>\n",
       "      <th>tweet_content</th>\n",
       "      <th>dog_name</th>\n",
       "      <th>age_stage</th>\n",
       "      <th>rating_ratio</th>\n",
       "    </tr>\n",
       "  </thead>\n",
       "  <tbody>\n",
       "    <tr>\n",
       "      <th>0</th>\n",
       "      <td>892420643555336193</td>\n",
       "      <td>7260</td>\n",
       "      <td>34716</td>\n",
       "      <td>https://pbs.twimg.com/media/DGKD1-bXoAAIAUK.jpg</td>\n",
       "      <td>1</td>\n",
       "      <td>orange</td>\n",
       "      <td>0.097049</td>\n",
       "      <td>False</td>\n",
       "      <td>bagel</td>\n",
       "      <td>0.085851</td>\n",
       "      <td>False</td>\n",
       "      <td>banana</td>\n",
       "      <td>0.076110</td>\n",
       "      <td>False</td>\n",
       "      <td>2017-08-01 16:23:56 +0000</td>\n",
       "      <td>This is Phineas. He's a mystical boy. Only eve...</td>\n",
       "      <td>Phineas</td>\n",
       "      <td>None</td>\n",
       "      <td>1.3</td>\n",
       "    </tr>\n",
       "    <tr>\n",
       "      <th>1</th>\n",
       "      <td>892177421306343426</td>\n",
       "      <td>5434</td>\n",
       "      <td>30085</td>\n",
       "      <td>https://pbs.twimg.com/media/DGGmoV4XsAAUL6n.jpg</td>\n",
       "      <td>1</td>\n",
       "      <td>chihuahua</td>\n",
       "      <td>0.323581</td>\n",
       "      <td>True</td>\n",
       "      <td>pekinese</td>\n",
       "      <td>0.090647</td>\n",
       "      <td>True</td>\n",
       "      <td>papillon</td>\n",
       "      <td>0.068957</td>\n",
       "      <td>True</td>\n",
       "      <td>2017-08-01 00:17:27 +0000</td>\n",
       "      <td>This is Tilly. She's just checking pup on you....</td>\n",
       "      <td>Tilly</td>\n",
       "      <td>None</td>\n",
       "      <td>1.3</td>\n",
       "    </tr>\n",
       "    <tr>\n",
       "      <th>2</th>\n",
       "      <td>891815181378084864</td>\n",
       "      <td>3583</td>\n",
       "      <td>22640</td>\n",
       "      <td>https://pbs.twimg.com/media/DGBdLU1WsAANxJ9.jpg</td>\n",
       "      <td>1</td>\n",
       "      <td>chihuahua</td>\n",
       "      <td>0.716012</td>\n",
       "      <td>True</td>\n",
       "      <td>malamute</td>\n",
       "      <td>0.078253</td>\n",
       "      <td>True</td>\n",
       "      <td>kelpie</td>\n",
       "      <td>0.031379</td>\n",
       "      <td>True</td>\n",
       "      <td>2017-07-31 00:18:03 +0000</td>\n",
       "      <td>This is Archie. He is a rare Norwegian Pouncin...</td>\n",
       "      <td>Archie</td>\n",
       "      <td>None</td>\n",
       "      <td>1.2</td>\n",
       "    </tr>\n",
       "    <tr>\n",
       "      <th>3</th>\n",
       "      <td>891689557279858688</td>\n",
       "      <td>7465</td>\n",
       "      <td>37993</td>\n",
       "      <td>https://pbs.twimg.com/media/DF_q7IAWsAEuuN8.jpg</td>\n",
       "      <td>1</td>\n",
       "      <td>paper_towel</td>\n",
       "      <td>0.170278</td>\n",
       "      <td>False</td>\n",
       "      <td>labrador_retriever</td>\n",
       "      <td>0.168086</td>\n",
       "      <td>True</td>\n",
       "      <td>spatula</td>\n",
       "      <td>0.040836</td>\n",
       "      <td>False</td>\n",
       "      <td>2017-07-30 15:58:51 +0000</td>\n",
       "      <td>This is Darla. She commenced a snooze mid meal...</td>\n",
       "      <td>Darla</td>\n",
       "      <td>None</td>\n",
       "      <td>1.3</td>\n",
       "    </tr>\n",
       "    <tr>\n",
       "      <th>4</th>\n",
       "      <td>891327558926688256</td>\n",
       "      <td>8018</td>\n",
       "      <td>36276</td>\n",
       "      <td>https://pbs.twimg.com/media/DF6hr6BUMAAzZgT.jpg</td>\n",
       "      <td>2</td>\n",
       "      <td>basset</td>\n",
       "      <td>0.555712</td>\n",
       "      <td>True</td>\n",
       "      <td>english_springer</td>\n",
       "      <td>0.225770</td>\n",
       "      <td>True</td>\n",
       "      <td>german_short-haired_pointer</td>\n",
       "      <td>0.175219</td>\n",
       "      <td>True</td>\n",
       "      <td>2017-07-29 16:00:24 +0000</td>\n",
       "      <td>This is Franklin. He would like you to stop ca...</td>\n",
       "      <td>Franklin</td>\n",
       "      <td>None</td>\n",
       "      <td>1.2</td>\n",
       "    </tr>\n",
       "  </tbody>\n",
       "</table>\n",
       "</div>"
      ],
      "text/plain": [
       "             tweet_id  retweet_count  favorite_count  \\\n",
       "0  892420643555336193           7260           34716   \n",
       "1  892177421306343426           5434           30085   \n",
       "2  891815181378084864           3583           22640   \n",
       "3  891689557279858688           7465           37993   \n",
       "4  891327558926688256           8018           36276   \n",
       "\n",
       "                                       picture_url  img_num           p1  \\\n",
       "0  https://pbs.twimg.com/media/DGKD1-bXoAAIAUK.jpg        1       orange   \n",
       "1  https://pbs.twimg.com/media/DGGmoV4XsAAUL6n.jpg        1    chihuahua   \n",
       "2  https://pbs.twimg.com/media/DGBdLU1WsAANxJ9.jpg        1    chihuahua   \n",
       "3  https://pbs.twimg.com/media/DF_q7IAWsAEuuN8.jpg        1  paper_towel   \n",
       "4  https://pbs.twimg.com/media/DF6hr6BUMAAzZgT.jpg        2       basset   \n",
       "\n",
       "    p1_conf p1_dog                  p2   p2_conf p2_dog  \\\n",
       "0  0.097049  False               bagel  0.085851  False   \n",
       "1  0.323581   True            pekinese  0.090647   True   \n",
       "2  0.716012   True            malamute  0.078253   True   \n",
       "3  0.170278  False  labrador_retriever  0.168086   True   \n",
       "4  0.555712   True    english_springer  0.225770   True   \n",
       "\n",
       "                            p3   p3_conf p3_dog                 time_stamp  \\\n",
       "0                       banana  0.076110  False  2017-08-01 16:23:56 +0000   \n",
       "1                     papillon  0.068957   True  2017-08-01 00:17:27 +0000   \n",
       "2                       kelpie  0.031379   True  2017-07-31 00:18:03 +0000   \n",
       "3                      spatula  0.040836  False  2017-07-30 15:58:51 +0000   \n",
       "4  german_short-haired_pointer  0.175219   True  2017-07-29 16:00:24 +0000   \n",
       "\n",
       "                                       tweet_content  dog_name age_stage  \\\n",
       "0  This is Phineas. He's a mystical boy. Only eve...   Phineas      None   \n",
       "1  This is Tilly. She's just checking pup on you....     Tilly      None   \n",
       "2  This is Archie. He is a rare Norwegian Pouncin...    Archie      None   \n",
       "3  This is Darla. She commenced a snooze mid meal...     Darla      None   \n",
       "4  This is Franklin. He would like you to stop ca...  Franklin      None   \n",
       "\n",
       "   rating_ratio  \n",
       "0           1.3  \n",
       "1           1.3  \n",
       "2           1.2  \n",
       "3           1.3  \n",
       "4           1.2  "
      ]
     },
     "execution_count": 29,
     "metadata": {},
     "output_type": "execute_result"
    }
   ],
   "source": [
    "combined.head()"
   ]
  },
  {
   "cell_type": "code",
   "execution_count": 30,
   "id": "fff5dcbc",
   "metadata": {},
   "outputs": [
    {
     "data": {
      "text/plain": [
       "tweet_id           object\n",
       "retweet_count       int32\n",
       "favorite_count      int32\n",
       "picture_url        object\n",
       "img_num             int32\n",
       "p1                 object\n",
       "p1_conf           float64\n",
       "p1_dog             object\n",
       "p2                 object\n",
       "p2_conf           float64\n",
       "p2_dog             object\n",
       "p3                 object\n",
       "p3_conf           float64\n",
       "p3_dog             object\n",
       "time_stamp         object\n",
       "tweet_content      object\n",
       "dog_name           object\n",
       "age_stage          object\n",
       "rating_ratio      float64\n",
       "dtype: object"
      ]
     },
     "execution_count": 30,
     "metadata": {},
     "output_type": "execute_result"
    }
   ],
   "source": [
    "combined.dtypes"
   ]
  },
  {
   "cell_type": "code",
   "execution_count": 31,
   "id": "3e0cc112",
   "metadata": {},
   "outputs": [
    {
     "data": {
      "text/plain": [
       "tweet_id          0\n",
       "retweet_count     0\n",
       "favorite_count    0\n",
       "picture_url       0\n",
       "img_num           0\n",
       "p1                0\n",
       "p1_conf           0\n",
       "p1_dog            0\n",
       "p2                0\n",
       "p2_conf           0\n",
       "p2_dog            0\n",
       "p3                0\n",
       "p3_conf           0\n",
       "p3_dog            0\n",
       "time_stamp        0\n",
       "tweet_content     0\n",
       "dog_name          0\n",
       "age_stage         0\n",
       "rating_ratio      0\n",
       "dtype: int64"
      ]
     },
     "execution_count": 31,
     "metadata": {},
     "output_type": "execute_result"
    }
   ],
   "source": [
    "combined.isnull().sum()"
   ]
  },
  {
   "cell_type": "code",
   "execution_count": 66,
   "id": "c479c7f5",
   "metadata": {},
   "outputs": [
    {
     "data": {
      "text/plain": [
       "0    2017-08-01 16:23:56 +0000\n",
       "1    2017-08-01 00:17:27 +0000\n",
       "Name: time_stamp, dtype: object"
      ]
     },
     "execution_count": 66,
     "metadata": {},
     "output_type": "execute_result"
    }
   ],
   "source": [
    "# up to august 1st \n",
    "combined['time_stamp'][combined['time_stamp'].str.contains('2017-08')]"
   ]
  },
  {
   "cell_type": "code",
   "execution_count": 39,
   "id": "cb1030b5",
   "metadata": {},
   "outputs": [],
   "source": [
    "combined.to_csv('twitter_archive_master.csv', index=False)"
   ]
  },
  {
   "cell_type": "markdown",
   "id": "a540a94c",
   "metadata": {},
   "source": [
    "<a id='analysis'></a>\n",
    "# Analysis\n"
   ]
  },
  {
   "cell_type": "markdown",
   "id": "6f358b13",
   "metadata": {},
   "source": [
    "## Relationship between rating ratio vs. favorite count, img_num, retweet_count\n"
   ]
  },
  {
   "cell_type": "code",
   "execution_count": 68,
   "id": "67e55149",
   "metadata": {},
   "outputs": [
    {
     "data": {
      "image/png": "[encoded data removed]",
      "text/plain": [
       "<Figure size 1440x360 with 1 Axes>"
      ]
     },
     "metadata": {
      "needs_background": "light"
     },
     "output_type": "display_data"
    }
   ],
   "source": [
    "plt.figure(figsize = (20,5))\n",
    "bins = 10** np.arange(-1, 2, 0.1)\n",
    "\n",
    "ticks = [0.1, 0.25,0.5,1,2,4,10,20,40]\n",
    "labels = [str(t) for t in ticks]\n",
    "\n",
    "plt.hist(combined['rating_ratio'], bins= bins);\n",
    "plt.xscale('log')\n",
    "plt.xticks(ticks, labels);\n",
    "\n",
    "plt.title('Distribution of log Rating Ratio');\n",
    "plt.savefig('no.1.png', bbox_inches='tight')"
   ]
  },
  {
   "cell_type": "code",
   "execution_count": 69,
   "id": "da749fd9",
   "metadata": {},
   "outputs": [
    {
     "data": {
      "image/png": "[encoded data removed]",
      "text/plain": [
       "<Figure size 432x288 with 1 Axes>"
      ]
     },
     "metadata": {
      "needs_background": "light"
     },
     "output_type": "display_data"
    }
   ],
   "source": [
    "plt.scatter(y= combined.retweet_count,x = combined.favorite_count)\n",
    "plt.title('Retweet Counts vs. Favorite Count')\n",
    "\n",
    "plt.ylabel('Retweet Counts')\n",
    "plt.xlabel('Favorite Count');\n",
    "plt.savefig('no.2.png', bbox_inches='tight')"
   ]
  },
  {
   "cell_type": "code",
   "execution_count": 70,
   "id": "41d22640",
   "metadata": {},
   "outputs": [
    {
     "data": {
      "image/png": "[encoded data removed]",
      "text/plain": [
       "<Figure size 1296x360 with 3 Axes>"
      ]
     },
     "metadata": {
      "needs_background": "light"
     },
     "output_type": "display_data"
    }
   ],
   "source": [
    "plt.figure(figsize = (18,5))\n",
    "plt.subplot(1,3,1)\n",
    "ticks = [0.1, 0.25,0.5,1,2,4,10,20,40]\n",
    "labels = [str(t) for t in ticks]\n",
    "\n",
    "plt.scatter(y= combined.favorite_count,x = combined.rating_ratio)\n",
    "plt.xscale('log');\n",
    "plt.title('Favorite Counts vs. Rating Ratio')\n",
    "plt.xticks(ticks, labels);\n",
    "\n",
    "plt.ylabel('Favorite Counts')\n",
    "plt.xlabel('Log Rating Ratio');\n",
    "\n",
    "plt.subplot(1,3,2)\n",
    "plt.scatter(y= combined.retweet_count,x = combined.rating_ratio)\n",
    "plt.xscale('log');\n",
    "plt.title('Retweet Counts vs. Rating Ratio')\n",
    "plt.xticks(ticks, labels);\n",
    "\n",
    "plt.ylabel('Retweet Counts')\n",
    "plt.xlabel('Log Rating Ratio');\n",
    "\n",
    "plt.subplot(1,3,3)\n",
    "plt.scatter(y  = combined.img_num, x= combined.rating_ratio)\n",
    "plt.xscale('log');\n",
    "plt.title('Retweet Counts vs. Rating Ratio')\n",
    "plt.xticks(ticks, labels);\n",
    "plt.yticks([1,2,3,4], [str(i) for i in np.arange(1,5)]);\n",
    "plt.ylabel('Image Numbers')\n",
    "plt.xlabel('Log Rating Ratio');\n",
    "\n",
    "plt.savefig('no.3.png', bbox_inches='tight')"
   ]
  },
  {
   "cell_type": "markdown",
   "id": "7054d0dc",
   "metadata": {},
   "source": [
    "## How does number of retweets and likes relate to number of images?"
   ]
  },
  {
   "cell_type": "code",
   "execution_count": 109,
   "id": "da9e730d",
   "metadata": {},
   "outputs": [
    {
     "data": {
      "image/png": "[encoded data removed]",
      "text/plain": [
       "<Figure size 720x360 with 1 Axes>"
      ]
     },
     "metadata": {
      "needs_background": "light"
     },
     "output_type": "display_data"
    }
   ],
   "source": [
    "fig, ax = plt.subplots(figsize = (10, 5))\n",
    "# combined.groupby('img_num').mean()[['retweet_count', 'favorite_count']].plot(ax = ax)\n",
    "sns.pointplot(x=\"img_num\", y=\"favorite_count\", data=combined, ax = ax, label = 'favorite_count', color = sns.color_palette('Paired')[1])\n",
    "sns.pointplot(x=\"img_num\", y=\"retweet_count\", data=combined, ax = ax, label = 'retweet_count', color = sns.color_palette('Paired')[-5])\n",
    "\n",
    "import matplotlib.patches as mpatches\n",
    "red_patch = mpatches.Patch(color=sns.color_palette('Paired')[1], label='favorite_count')\n",
    "black_patch = mpatches.Patch(color=sns.color_palette('Paired')[-5], label='retweet_count')\n",
    "plt.legend(handles=[red_patch, black_patch])\n",
    "\n",
    "plt.xlabel('image numbers')\n",
    "plt.ylabel('counts')\n",
    "plt.title('Trends of Retweet and Favorite counts with Different Image Numbers');\n",
    "plt.savefig('no.4.png', bbox_inches='tight')"
   ]
  },
  {
   "cell_type": "markdown",
   "id": "bf175e09",
   "metadata": {},
   "source": [
    "## What kind of dogs are predicted the most?\n"
   ]
  },
  {
   "cell_type": "code",
   "execution_count": 72,
   "id": "801f3a86",
   "metadata": {},
   "outputs": [
    {
     "data": {
      "image/png": "[encoded data removed]",
      "text/plain": [
       "<Figure size 1152x360 with 2 Axes>"
      ]
     },
     "metadata": {
      "needs_background": "light"
     },
     "output_type": "display_data"
    }
   ],
   "source": [
    "plt.figure(figsize = (16, 5))\n",
    "\n",
    "plt.subplot(1,2,1)\n",
    "count_dog = combined['p1'].value_counts()\n",
    "count_dog[count_dog >= 30].plot(kind ='bar')\n",
    "plt.title('Dogs Predicted over 30 times');\n",
    "plt.ylabel('Counts');\n",
    "\n",
    "plt.subplot(1,2,2)\n",
    "combined['p1'].apply(lambda x: x if x in count_dog.index[:5] else 'Other').value_counts().plot(kind = 'pie')\n",
    "plt.title('Dogs Predicted over 30 times vs. Others')\n",
    "plt.savefig('no.5.png', bbox_inches='tight')"
   ]
  },
  {
   "cell_type": "markdown",
   "id": "955bf68e",
   "metadata": {},
   "source": [
    "# Do people like puppies more or older dogs more?"
   ]
  },
  {
   "cell_type": "code",
   "execution_count": 110,
   "id": "11968749",
   "metadata": {},
   "outputs": [
    {
     "data": {
      "image/png": "[encoded data removed]",
      "text/plain": [
       "<Figure size 720x360 with 1 Axes>"
      ]
     },
     "metadata": {
      "needs_background": "light"
     },
     "output_type": "display_data"
    }
   ],
   "source": [
    "fig, ax = plt.subplots(figsize = (10, 5))\n",
    "\n",
    "combined.groupby('age_stage').mean()[['retweet_count', 'favorite_count'\n",
    "                                     ]].loc[['pupper', 'doggo', 'puppo','floofer', 'None']].plot(ax= ax)\n",
    "plt.xticks(list(range(0,5)), ['pupper', 'doggo', 'puppo','floofer', 'None'])\n",
    "plt.ylabel('counts')\n",
    "plt.title('Trends of Retweet and Favorite counts with Different Age Stage');\n",
    "plt.savefig('no.6.png', bbox_inches='tight')"
   ]
  },
  {
   "cell_type": "markdown",
   "id": "f30c7c94",
   "metadata": {},
   "source": [
    "## Hypothesis Test: Does Rating differ if dog is predicted as a dog?\n",
    "\n",
    "$\\mu_f$ = rating_ratio for falsely predicted dog<br>\n",
    "$\\mu_t$ = rating_ratio for truely predicted dog\n",
    "\n",
    "\n",
    "$$H_0: \\mu_{t} - \\mu_{f} = 0$$\n",
    "$$H_1: \\mu_{t} - \\mu_{f} \\neq 0$$"
   ]
  },
  {
   "cell_type": "code",
   "execution_count": 111,
   "id": "aa4d0e21",
   "metadata": {},
   "outputs": [],
   "source": [
    "def calculate_p_vlaue(combined, col):\n",
    "    muf = mut = combined['rating_ratio'].mean()\n",
    "    n_f = combined.groupby(col).count()['tweet_id'][False]\n",
    "    n_t = combined.groupby(col).count()['tweet_id'][True]\n",
    "    \n",
    "    mu_diffs = np.array([])\n",
    "    std = combined['rating_ratio'].std()\n",
    "\n",
    "    for _ in range(10000):\n",
    "\n",
    "        false_dog = np.random.normal(muf, std, n_f)\n",
    "        true_dog = np.random.normal(mut, std, n_t)\n",
    "\n",
    "        mu_diffs = np.append(mu_diffs, (true_dog.mean()- false_dog.mean()))\n",
    "    \n",
    "    \n",
    "    actual_rat = combined.groupby(col).mean()[['rating_ratio']]\n",
    "    actual_diff = actual_rat.loc[True] - actual_rat.loc[False]\n",
    "#     null_vals = np.random.normal(0, mu_diffs.std(), 10000)\n",
    "    plt.hist(mu_diffs, )\n",
    "    plt.axvline(actual_diff.values[0], c = 'red');\n",
    "    plt.title(f'Distribution under H0 Hypothesis: {col}')\n",
    "    plt.show()\n",
    "    \n",
    "    print(f'CI: {np.percentile(mu_diffs,2.5)} ~ {np.percentile(mu_diffs,97.5)}')\n",
    "    print(f'Acutal diff: {actual_diff.values[0]}')\n",
    "    plt.savefig(f'no.{col}.png', bbox_inches='tight')\n",
    "    if np.percentile(mu_diffs,2.5) > actual_diff.values[0] or np.percentile(mu_diffs,97.5) < actual_diff.values[0]:\n",
    "        print('Reject Null hypothesis, rating_ratio is different')\n",
    "    else:\n",
    "        print('Do not Reject Null hypothesis, rating_ratio is not different')"
   ]
  },
  {
   "cell_type": "code",
   "execution_count": 112,
   "id": "9e186233",
   "metadata": {},
   "outputs": [
    {
     "data": {
      "image/png": "[encoded data removed]",
      "text/plain": [
       "<Figure size 432x288 with 1 Axes>"
      ]
     },
     "metadata": {
      "needs_background": "light"
     },
     "output_type": "display_data"
    },
    {
     "name": "stdout",
     "output_type": "stream",
     "text": [
      "CI: -0.1445485316613067 ~ 0.14211593812773707\n",
      "Acutal diff: 0.053316936944582505\n",
      "Do not Reject Null hypothesis, rating_ratio is not different\n"
     ]
    },
    {
     "data": {
      "image/png": "[encoded data removed]",
      "text/plain": [
       "<Figure size 432x288 with 1 Axes>"
      ]
     },
     "metadata": {
      "needs_background": "light"
     },
     "output_type": "display_data"
    },
    {
     "name": "stdout",
     "output_type": "stream",
     "text": [
      "CI: -0.14742515107069631 ~ 0.14558674359594043\n",
      "Acutal diff: 0.0034996684557595525\n",
      "Do not Reject Null hypothesis, rating_ratio is not different\n"
     ]
    },
    {
     "data": {
      "image/png": "[encoded data removed]",
      "text/plain": [
       "<Figure size 432x288 with 1 Axes>"
      ]
     },
     "metadata": {
      "needs_background": "light"
     },
     "output_type": "display_data"
    },
    {
     "name": "stdout",
     "output_type": "stream",
     "text": [
      "CI: -0.14192711908046923 ~ 0.14255082831947397\n",
      "Acutal diff: 0.027177105184301276\n",
      "Do not Reject Null hypothesis, rating_ratio is not different\n"
     ]
    },
    {
     "data": {
      "text/plain": [
       "<Figure size 432x288 with 0 Axes>"
      ]
     },
     "metadata": {},
     "output_type": "display_data"
    }
   ],
   "source": [
    "for i in range(1,4):\n",
    "    calculate_p_vlaue(combined, f'p{i}_dog')"
   ]
  },
  {
   "cell_type": "code",
   "execution_count": null,
   "id": "73a08bae",
   "metadata": {},
   "outputs": [],
   "source": []
  }
 ],
 "metadata": {
  "kernelspec": {
   "display_name": "Python 3",
   "language": "python",
   "name": "python3"
  },
  "language_info": {
   "codemirror_mode": {
    "name": "ipython",
    "version": 3
   },
   "file_extension": ".py",
   "mimetype": "text/x-python",
   "name": "python",
   "nbconvert_exporter": "python",
   "pygments_lexer": "ipython3",
   "version": "3.8.10"
  }
 },
 "nbformat": 4,
 "nbformat_minor": 5
}
